{
 "cells": [
  {
   "cell_type": "markdown",
   "id": "d35a3ffd-6958-4394-8932-b5b60f9b7122",
   "metadata": {},
   "source": [
    "# Pandas Library\n",
    "\n",
    "Pandas is a python library used for working  with data sets.\n",
    "it has functions for analyzing, cleaning, exploring, and manipulating  data.\n",
    "\n",
    "pandas - Panel Data\n",
    "\n",
    "## Use\n",
    "to analyze big data and make conclusion based on statistical theories\n",
    "it can clean messy data sets and make them readable and releavent data.\n",
    "relavent is imp in your data science\n",
    "\n",
    "\n",
    "## Install\n",
    "pip install pandas\n"
   ]
  },
  {
   "cell_type": "code",
   "execution_count": 1,
   "id": "3ad7b770-59f2-49dd-8441-507ede515048",
   "metadata": {},
   "outputs": [
    {
     "name": "stdout",
     "output_type": "stream",
     "text": [
      "Requirement already satisfied: pandas in c:\\users\\navya\\anaconda3\\lib\\site-packages (2.2.3)\n",
      "Requirement already satisfied: numpy>=1.26.0 in c:\\users\\navya\\anaconda3\\lib\\site-packages (from pandas) (2.1.3)\n",
      "Requirement already satisfied: python-dateutil>=2.8.2 in c:\\users\\navya\\appdata\\roaming\\python\\python313\\site-packages (from pandas) (2.9.0.post0)\n",
      "Requirement already satisfied: pytz>=2020.1 in c:\\users\\navya\\anaconda3\\lib\\site-packages (from pandas) (2024.1)\n",
      "Requirement already satisfied: tzdata>=2022.7 in c:\\users\\navya\\anaconda3\\lib\\site-packages (from pandas) (2025.2)\n",
      "Requirement already satisfied: six>=1.5 in c:\\users\\navya\\appdata\\roaming\\python\\python313\\site-packages (from python-dateutil>=2.8.2->pandas) (1.17.0)\n",
      "Note: you may need to restart the kernel to use updated packages.\n"
     ]
    }
   ],
   "source": [
    "pip install pandas\n"
   ]
  },
  {
   "cell_type": "code",
   "execution_count": 2,
   "id": "522a2315-61c1-4305-b048-1d2eed2e8efe",
   "metadata": {},
   "outputs": [
    {
     "name": "stdout",
     "output_type": "stream",
     "text": [
      "2.2.3\n"
     ]
    }
   ],
   "source": [
    "import pandas as pd\n",
    "print(pd.__version__)"
   ]
  },
  {
   "cell_type": "code",
   "execution_count": 3,
   "id": "125cfb6f-b89e-4b87-b080-e608406e0afe",
   "metadata": {},
   "outputs": [],
   "source": [
    "import pandas as pd"
   ]
  },
  {
   "cell_type": "code",
   "execution_count": 5,
   "id": "b768a68e-8abf-494f-b161-426bdfae0eff",
   "metadata": {},
   "outputs": [
    {
     "name": "stdout",
     "output_type": "stream",
     "text": [
      "  South-Indian  North-Indian  Prices\n",
      "0         Idly  Paneer Gravy      30\n",
      "1         Dosa          Roti      50\n",
      "2       Pongal       Biryani     100\n"
     ]
    }
   ],
   "source": [
    "data={\n",
    "    'South-Indian':['Idly','Dosa','Pongal'],\n",
    "    'North-Indian':['Paneer Gravy','Roti','Biryani'],\n",
    "    'Prices':[30,50,100]\n",
    "}\n",
    "var=pd.DataFrame(data)\n",
    "print(var)"
   ]
  },
  {
   "cell_type": "code",
   "execution_count": null,
   "id": "a1499341-ffcf-42c7-b6a4-a4f78065d993",
   "metadata": {},
   "outputs": [],
   "source": [
    "'''\n",
    "Series: A pandas series is like a column in a table\n",
    "\n",
    "DataFrames- Data sets in pandas are usually multi-dimensonal tables , called Dataframes\n",
    "\n",
    "Series ia like a Column , DataFrame is the Whole Table\n",
    "'''"
   ]
  },
  {
   "cell_type": "code",
   "execution_count": 9,
   "id": "493ed3e8-50c5-4974-b830-536894e0f3a7",
   "metadata": {},
   "outputs": [
    {
     "name": "stdout",
     "output_type": "stream",
     "text": [
      "  South-Indian  North-Indian  Prices\n",
      "a         Idly  Paneer Gravy      30\n",
      "b         Dosa          Roti      50\n",
      "c       Pongal       Biryani     100\n",
      "d         Poha           Dal      80\n"
     ]
    }
   ],
   "source": [
    "data={\n",
    "    'South-Indian':['Idly','Dosa','Pongal','Poha'],\n",
    "    'North-Indian':['Paneer Gravy','Roti','Biryani','Dal'],\n",
    "    'Prices':[30,50,100,80]\n",
    "}\n",
    "var=pd.DataFrame(data,index=['a','b','c','d'])\n",
    "print(var)"
   ]
  },
  {
   "cell_type": "code",
   "execution_count": 12,
   "id": "4938f381-94ae-4c60-95bd-93497f3b7129",
   "metadata": {},
   "outputs": [
    {
     "name": "stdout",
     "output_type": "stream",
     "text": [
      "South-Indian    Dosa\n",
      "North-Indian    Roti\n",
      "Prices            50\n",
      "Name: b, dtype: object\n"
     ]
    }
   ],
   "source": [
    "print(var.loc['b'])"
   ]
  },
  {
   "cell_type": "code",
   "execution_count": 14,
   "id": "2b07f249-84a1-468f-93d3-9a90e9b788fa",
   "metadata": {},
   "outputs": [
    {
     "name": "stdout",
     "output_type": "stream",
     "text": [
      "  South-Indian North-Indian  Prices\n",
      "c       Pongal      Biryani     100\n",
      "d         Poha          Dal      80\n"
     ]
    }
   ],
   "source": [
    "print(var.loc[['c','d']])"
   ]
  },
  {
   "cell_type": "code",
   "execution_count": 15,
   "id": "1524fa47-3a90-4141-ac81-9d5d3409d253",
   "metadata": {},
   "outputs": [],
   "source": [
    "import pandas as pd\n",
    "df=pd.read_csv('Uber Cleaned Dataset.csv')"
   ]
  },
  {
   "cell_type": "code",
   "execution_count": 16,
   "id": "18509e43-578f-498d-88a5-0fde981cf753",
   "metadata": {},
   "outputs": [
    {
     "name": "stdout",
     "output_type": "stream",
     "text": [
      "                  timestamp        date  hour day_of_week  month  \\\n",
      "0       2018-11-26 03:40:46  2018-11-26     3      Monday     11   \n",
      "1       2018-11-26 03:40:46  2018-11-26     3      Monday     11   \n",
      "2       2018-11-26 03:40:46  2018-11-26     3      Monday     11   \n",
      "3       2018-11-26 03:40:46  2018-11-26     3      Monday     11   \n",
      "4       2018-11-26 03:40:46  2018-11-26     3      Monday     11   \n",
      "...                     ...         ...   ...         ...    ...   \n",
      "637189  2018-12-18 19:15:11  2018-12-18    19     Tuesday     12   \n",
      "637190  2018-12-18 19:15:11  2018-12-18    19     Tuesday     12   \n",
      "637191  2018-12-18 19:15:11  2018-12-18    19     Tuesday     12   \n",
      "637192  2018-12-18 19:15:11  2018-12-18    19     Tuesday     12   \n",
      "637193  2018-12-18 19:15:11  2018-12-18    19     Tuesday     12   \n",
      "\n",
      "                         source         destination ride_company  \\\n",
      "0             Boston University  Financial District         Lyft   \n",
      "1             Boston University  Financial District         Lyft   \n",
      "2                 North Station              Fenway         Uber   \n",
      "3             Boston University    Theatre District         Lyft   \n",
      "4       Northeastern University         Beacon Hill         Lyft   \n",
      "...                         ...                 ...          ...   \n",
      "637189                North End            West End         Uber   \n",
      "637190         Theatre District              Fenway         Uber   \n",
      "637191  Northeastern University         Beacon Hill         Lyft   \n",
      "637192                North End            West End         Uber   \n",
      "637193                   Fenway            Back Bay         Uber   \n",
      "\n",
      "             vehicle  visibility  ...  distance  surge_multiplier  fare  \\\n",
      "0          Lux Black       1.685  ...      4.46              1.75  62.5   \n",
      "1                Lux       1.685  ...      4.46              1.75  47.5   \n",
      "2                WAV       1.685  ...      3.05              1.00  10.5   \n",
      "3       Lux Black XL       1.685  ...      3.03              1.00  34.0   \n",
      "4               Lyft       1.685  ...      2.43              1.00  10.5   \n",
      "...              ...         ...  ...       ...               ...   ...   \n",
      "637189     Black SUV       9.883  ...      1.16              1.00  27.5   \n",
      "637190      UberPool       9.883  ...      2.66              1.00   9.0   \n",
      "637191  Lux Black XL       9.883  ...      2.40              1.00  32.5   \n",
      "637192        UberXL       9.883  ...      1.16              1.00  11.5   \n",
      "637193         UberX       9.883  ...      1.50              1.00   7.0   \n",
      "\n",
      "        humidity  wind_speed  weather_desc_short  \\\n",
      "0           0.92        0.51               Foggy   \n",
      "1           0.92        0.51               Foggy   \n",
      "2           0.92        0.51               Foggy   \n",
      "3           0.92        0.51               Foggy   \n",
      "4           0.92        0.51               Foggy   \n",
      "...          ...         ...                 ...   \n",
      "637189      0.38       12.52               Clear   \n",
      "637190      0.38       12.52               Clear   \n",
      "637191      0.38       12.52               Clear   \n",
      "637192      0.38       12.52               Clear   \n",
      "637193      0.38       12.52               Clear   \n",
      "\n",
      "                           weather_desc_long weather_status pressure  \\\n",
      "0        Rain in the morning and afternoon.             fog  1014.10   \n",
      "1        Rain in the morning and afternoon.             fog  1014.10   \n",
      "2        Rain in the morning and afternoon.             fog  1014.10   \n",
      "3        Rain in the morning and afternoon.             fog  1014.10   \n",
      "4        Rain in the morning and afternoon.             fog  1014.10   \n",
      "...                                      ...            ...      ...   \n",
      "637189    Mostly cloudy throughout the day.           clear  1011.55   \n",
      "637190    Mostly cloudy throughout the day.           clear  1011.55   \n",
      "637191    Mostly cloudy throughout the day.           clear  1011.55   \n",
      "637192    Mostly cloudy throughout the day.           clear  1011.55   \n",
      "637193    Mostly cloudy throughout the day.           clear  1011.55   \n",
      "\n",
      "       temperature_C  \n",
      "0               5.46  \n",
      "1               5.46  \n",
      "2               5.46  \n",
      "3               5.46  \n",
      "4               5.46  \n",
      "...              ...  \n",
      "637189         -5.01  \n",
      "637190         -5.01  \n",
      "637191         -5.01  \n",
      "637192         -5.01  \n",
      "637193         -5.01  \n",
      "\n",
      "[637194 rows x 22 columns]\n"
     ]
    }
   ],
   "source": [
    "print(df)"
   ]
  },
  {
   "cell_type": "code",
   "execution_count": 17,
   "id": "661e1620-e87a-4632-8d8f-88d8d02abab1",
   "metadata": {},
   "outputs": [
    {
     "name": "stderr",
     "output_type": "stream",
     "text": [
      "IOPub data rate exceeded.\n",
      "The Jupyter server will temporarily stop sending output\n",
      "to the client in order to avoid crashing it.\n",
      "To change this limit, set the config variable\n",
      "`--ServerApp.iopub_data_rate_limit`.\n",
      "\n",
      "Current values:\n",
      "ServerApp.iopub_data_rate_limit=1000000.0 (bytes/sec)\n",
      "ServerApp.rate_limit_window=3.0 (secs)\n",
      "\n"
     ]
    }
   ],
   "source": [
    "print(df.to_string())"
   ]
  },
  {
   "cell_type": "code",
   "execution_count": 18,
   "id": "cdeb71ce-1620-43ec-bebc-0eea04800b73",
   "metadata": {},
   "outputs": [
    {
     "name": "stdout",
     "output_type": "stream",
     "text": [
      "             timestamp        date  hour day_of_week  month  \\\n",
      "0  2018-11-26 03:40:46  2018-11-26     3      Monday     11   \n",
      "1  2018-11-26 03:40:46  2018-11-26     3      Monday     11   \n",
      "2  2018-11-26 03:40:46  2018-11-26     3      Monday     11   \n",
      "3  2018-11-26 03:40:46  2018-11-26     3      Monday     11   \n",
      "4  2018-11-26 03:40:46  2018-11-26     3      Monday     11   \n",
      "\n",
      "                    source         destination ride_company       vehicle  \\\n",
      "0        Boston University  Financial District         Lyft     Lux Black   \n",
      "1        Boston University  Financial District         Lyft           Lux   \n",
      "2            North Station              Fenway         Uber           WAV   \n",
      "3        Boston University    Theatre District         Lyft  Lux Black XL   \n",
      "4  Northeastern University         Beacon Hill         Lyft          Lyft   \n",
      "\n",
      "   visibility  ...  distance  surge_multiplier  fare  humidity  wind_speed  \\\n",
      "0       1.685  ...      4.46              1.75  62.5      0.92        0.51   \n",
      "1       1.685  ...      4.46              1.75  47.5      0.92        0.51   \n",
      "2       1.685  ...      3.05              1.00  10.5      0.92        0.51   \n",
      "3       1.685  ...      3.03              1.00  34.0      0.92        0.51   \n",
      "4       1.685  ...      2.43              1.00  10.5      0.92        0.51   \n",
      "\n",
      "   weather_desc_short                     weather_desc_long weather_status  \\\n",
      "0               Foggy   Rain in the morning and afternoon.             fog   \n",
      "1               Foggy   Rain in the morning and afternoon.             fog   \n",
      "2               Foggy   Rain in the morning and afternoon.             fog   \n",
      "3               Foggy   Rain in the morning and afternoon.             fog   \n",
      "4               Foggy   Rain in the morning and afternoon.             fog   \n",
      "\n",
      "  pressure temperature_C  \n",
      "0   1014.1          5.46  \n",
      "1   1014.1          5.46  \n",
      "2   1014.1          5.46  \n",
      "3   1014.1          5.46  \n",
      "4   1014.1          5.46  \n",
      "\n",
      "[5 rows x 22 columns]\n"
     ]
    }
   ],
   "source": [
    "# Analysis of Data\n",
    "\n",
    "# head() - will return starting top rows (default it will be 5), or sepcifed number of rows\n",
    "\n",
    "print(df.head())"
   ]
  },
  {
   "cell_type": "code",
   "execution_count": 19,
   "id": "1c13a0fc-d439-4db9-b553-20394b932514",
   "metadata": {},
   "outputs": [
    {
     "name": "stdout",
     "output_type": "stream",
     "text": [
      "             timestamp        date  hour day_of_week  month  \\\n",
      "0  2018-11-26 03:40:46  2018-11-26     3      Monday     11   \n",
      "1  2018-11-26 03:40:46  2018-11-26     3      Monday     11   \n",
      "2  2018-11-26 03:40:46  2018-11-26     3      Monday     11   \n",
      "3  2018-11-26 03:40:46  2018-11-26     3      Monday     11   \n",
      "4  2018-11-26 03:40:46  2018-11-26     3      Monday     11   \n",
      "5  2018-11-26 03:40:46  2018-11-26     3      Monday     11   \n",
      "6  2018-11-26 03:40:46  2018-11-26     3      Monday     11   \n",
      "7  2018-11-26 03:40:46  2018-11-26     3      Monday     11   \n",
      "\n",
      "                    source         destination ride_company       vehicle  \\\n",
      "0        Boston University  Financial District         Lyft     Lux Black   \n",
      "1        Boston University  Financial District         Lyft           Lux   \n",
      "2            North Station              Fenway         Uber           WAV   \n",
      "3        Boston University    Theatre District         Lyft  Lux Black XL   \n",
      "4  Northeastern University         Beacon Hill         Lyft          Lyft   \n",
      "5         Theatre District              Fenway         Uber         UberX   \n",
      "6              Beacon Hill   Boston University         Lyft          Lyft   \n",
      "7              Beacon Hill   Boston University         Lyft        Shared   \n",
      "\n",
      "   visibility  ...  distance  surge_multiplier  fare  humidity  wind_speed  \\\n",
      "0       1.685  ...      4.46              1.75  62.5      0.92        0.51   \n",
      "1       1.685  ...      4.46              1.75  47.5      0.92        0.51   \n",
      "2       1.685  ...      3.05              1.00  10.5      0.92        0.51   \n",
      "3       1.685  ...      3.03              1.00  34.0      0.92        0.51   \n",
      "4       1.685  ...      2.43              1.00  10.5      0.92        0.51   \n",
      "5       1.685  ...      2.71              1.00  19.5      0.92        0.51   \n",
      "6       1.685  ...      2.30              1.00   9.0      0.92        0.51   \n",
      "7       1.685  ...      2.30              1.00   3.5      0.92        0.51   \n",
      "\n",
      "   weather_desc_short                     weather_desc_long weather_status  \\\n",
      "0               Foggy   Rain in the morning and afternoon.             fog   \n",
      "1               Foggy   Rain in the morning and afternoon.             fog   \n",
      "2               Foggy   Rain in the morning and afternoon.             fog   \n",
      "3               Foggy   Rain in the morning and afternoon.             fog   \n",
      "4               Foggy   Rain in the morning and afternoon.             fog   \n",
      "5               Foggy   Rain in the morning and afternoon.             fog   \n",
      "6               Foggy   Rain in the morning and afternoon.             fog   \n",
      "7               Foggy   Rain in the morning and afternoon.             fog   \n",
      "\n",
      "  pressure temperature_C  \n",
      "0   1014.1          5.46  \n",
      "1   1014.1          5.46  \n",
      "2   1014.1          5.46  \n",
      "3   1014.1          5.46  \n",
      "4   1014.1          5.46  \n",
      "5   1014.1          5.46  \n",
      "6   1014.1          5.46  \n",
      "7   1014.1          5.46  \n",
      "\n",
      "[8 rows x 22 columns]\n"
     ]
    }
   ],
   "source": [
    "print(df.head(8))"
   ]
  },
  {
   "cell_type": "code",
   "execution_count": 20,
   "id": "39161ad6-c60c-4b07-8f61-4a6eb697388e",
   "metadata": {},
   "outputs": [
    {
     "name": "stdout",
     "output_type": "stream",
     "text": [
      "                  timestamp        date  hour day_of_week  month  \\\n",
      "637189  2018-12-18 19:15:11  2018-12-18    19     Tuesday     12   \n",
      "637190  2018-12-18 19:15:11  2018-12-18    19     Tuesday     12   \n",
      "637191  2018-12-18 19:15:11  2018-12-18    19     Tuesday     12   \n",
      "637192  2018-12-18 19:15:11  2018-12-18    19     Tuesday     12   \n",
      "637193  2018-12-18 19:15:11  2018-12-18    19     Tuesday     12   \n",
      "\n",
      "                         source  destination ride_company       vehicle  \\\n",
      "637189                North End     West End         Uber     Black SUV   \n",
      "637190         Theatre District       Fenway         Uber      UberPool   \n",
      "637191  Northeastern University  Beacon Hill         Lyft  Lux Black XL   \n",
      "637192                North End     West End         Uber        UberXL   \n",
      "637193                   Fenway     Back Bay         Uber         UberX   \n",
      "\n",
      "        visibility  ...  distance  surge_multiplier  fare  humidity  \\\n",
      "637189       9.883  ...      1.16               1.0  27.5      0.38   \n",
      "637190       9.883  ...      2.66               1.0   9.0      0.38   \n",
      "637191       9.883  ...      2.40               1.0  32.5      0.38   \n",
      "637192       9.883  ...      1.16               1.0  11.5      0.38   \n",
      "637193       9.883  ...      1.50               1.0   7.0      0.38   \n",
      "\n",
      "        wind_speed  weather_desc_short                    weather_desc_long  \\\n",
      "637189       12.52               Clear   Mostly cloudy throughout the day.    \n",
      "637190       12.52               Clear   Mostly cloudy throughout the day.    \n",
      "637191       12.52               Clear   Mostly cloudy throughout the day.    \n",
      "637192       12.52               Clear   Mostly cloudy throughout the day.    \n",
      "637193       12.52               Clear   Mostly cloudy throughout the day.    \n",
      "\n",
      "       weather_status pressure temperature_C  \n",
      "637189          clear  1011.55         -5.01  \n",
      "637190          clear  1011.55         -5.01  \n",
      "637191          clear  1011.55         -5.01  \n",
      "637192          clear  1011.55         -5.01  \n",
      "637193          clear  1011.55         -5.01  \n",
      "\n",
      "[5 rows x 22 columns]\n"
     ]
    }
   ],
   "source": [
    "# tail() - starting from bottam rows(default - 5),or specified number of rows.\n",
    "\n",
    "print(df.tail())"
   ]
  },
  {
   "cell_type": "code",
   "execution_count": 21,
   "id": "0921bfc2-b354-4e15-b4d8-26b86ce0df34",
   "metadata": {},
   "outputs": [
    {
     "name": "stdout",
     "output_type": "stream",
     "text": [
      "<class 'pandas.core.frame.DataFrame'>\n",
      "RangeIndex: 637194 entries, 0 to 637193\n",
      "Data columns (total 22 columns):\n",
      " #   Column              Non-Null Count   Dtype  \n",
      "---  ------              --------------   -----  \n",
      " 0   timestamp           637194 non-null  object \n",
      " 1   date                637194 non-null  object \n",
      " 2   hour                637194 non-null  int64  \n",
      " 3   day_of_week         637194 non-null  object \n",
      " 4   month               637194 non-null  int64  \n",
      " 5   source              637194 non-null  object \n",
      " 6   destination         637194 non-null  object \n",
      " 7   ride_company        637194 non-null  object \n",
      " 8   vehicle             637194 non-null  object \n",
      " 9   visibility          637194 non-null  float64\n",
      " 10  cloud_cover         637194 non-null  float64\n",
      " 11  uv_index            637194 non-null  int64  \n",
      " 12  distance            637194 non-null  float64\n",
      " 13  surge_multiplier    637194 non-null  float64\n",
      " 14  fare                637194 non-null  float64\n",
      " 15  humidity            637194 non-null  float64\n",
      " 16  wind_speed          637194 non-null  float64\n",
      " 17  weather_desc_short  637194 non-null  object \n",
      " 18  weather_desc_long   637194 non-null  object \n",
      " 19  weather_status      637194 non-null  object \n",
      " 20  pressure            637194 non-null  float64\n",
      " 21  temperature_C       637194 non-null  float64\n",
      "dtypes: float64(9), int64(3), object(10)\n",
      "memory usage: 107.0+ MB\n",
      "None\n"
     ]
    }
   ],
   "source": [
    "print(df.info())"
   ]
  },
  {
   "cell_type": "code",
   "execution_count": 22,
   "id": "4c0bcb3b-765b-4089-bd6f-c1df119b3bee",
   "metadata": {},
   "outputs": [
    {
     "name": "stderr",
     "output_type": "stream",
     "text": [
      "IOPub data rate exceeded.\n",
      "The Jupyter server will temporarily stop sending output\n",
      "to the client in order to avoid crashing it.\n",
      "To change this limit, set the config variable\n",
      "`--ServerApp.iopub_data_rate_limit`.\n",
      "\n",
      "Current values:\n",
      "ServerApp.iopub_data_rate_limit=1000000.0 (bytes/sec)\n",
      "ServerApp.rate_limit_window=3.0 (secs)\n",
      "\n"
     ]
    }
   ],
   "source": [
    "#by default dropna() mehtod returns a new dataframe and will not change the orifinal\n",
    "new=df.dropna()\n",
    "print(new.to_string())"
   ]
  },
  {
   "cell_type": "code",
   "execution_count": null,
   "id": "dfea072b-2cf9-4e36-8676-0c0ad0c30310",
   "metadata": {},
   "outputs": [],
   "source": [
    "df.dropna(inplace=True)"
   ]
  },
  {
   "cell_type": "code",
   "execution_count": null,
   "id": "e34d1e09-2b56-48ab-a78e-bfad5b510428",
   "metadata": {},
   "outputs": [],
   "source": [
    "# replace the empty values\n",
    "\n",
    "df.fillna(100,inplace=True)"
   ]
  },
  {
   "cell_type": "code",
   "execution_count": null,
   "id": "718c2ce7-afe8-4649-96e4-34f22e49dab2",
   "metadata": {},
   "outputs": [],
   "source": [
    "#particukar column\n",
    "df.fillna({'Hours':20},inplace=True)"
   ]
  },
  {
   "cell_type": "code",
   "execution_count": null,
   "id": "92b4fa87-072d-4157-98c7-760fd6ca6e3f",
   "metadata": {},
   "outputs": [],
   "source": [
    "#correct and convert the wrong format to correct format\n",
    "\n",
    "df['Date']=pd.to_datetime(df['Date'],format='mixed' inplace=True)"
   ]
  },
  {
   "cell_type": "code",
   "execution_count": null,
   "id": "22e0b27b-1778-4dcc-a29e-c3c6fe42ebb3",
   "metadata": {},
   "outputs": [],
   "source": [
    "#fixing wrong data\n",
    "df.loc[10,'Destination']='Bengluru'"
   ]
  },
  {
   "cell_type": "code",
   "execution_count": null,
   "id": "ccda061c-a565-4b9f-9b4b-c26adcd5fb10",
   "metadata": {},
   "outputs": [],
   "source": [
    "#remove the duplicates\n",
    "print(df.duplicated()) #if returns True then data has duplicates , if returns false data does not have duplicates\n",
    "\n",
    "#drop duplicates\n",
    "df.drop_duplicates(inplace=True)"
   ]
  }
 ],
 "metadata": {
  "kernelspec": {
   "display_name": "Python [conda env:base] *",
   "language": "python",
   "name": "conda-base-py"
  },
  "language_info": {
   "codemirror_mode": {
    "name": "ipython",
    "version": 3
   },
   "file_extension": ".py",
   "mimetype": "text/x-python",
   "name": "python",
   "nbconvert_exporter": "python",
   "pygments_lexer": "ipython3",
   "version": "3.13.5"
  }
 },
 "nbformat": 4,
 "nbformat_minor": 5
}
